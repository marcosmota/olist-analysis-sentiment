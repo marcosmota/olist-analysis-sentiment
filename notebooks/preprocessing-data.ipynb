{
  "nbformat": 4,
  "nbformat_minor": 0,
  "metadata": {
    "colab": {
      "name": "Preprocessing-Data",
      "private_outputs": true,
      "provenance": [],
      "authorship_tag": "ABX9TyMVlPx/yDJgw0Kb6xGvt9s9",
      "include_colab_link": true
    },
    "kernelspec": {
      "name": "python3",
      "display_name": "Python 3"
    },
    "language_info": {
      "name": "python"
    }
  },
  "cells": [
    {
      "cell_type": "markdown",
      "metadata": {
        "id": "view-in-github",
        "colab_type": "text"
      },
      "source": [
        "<a href=\"https://colab.research.google.com/github/marcosmota/olist-analysis-sentiment/blob/master/notebooks/preprocessing-data.ipynb\" target=\"_parent\"><img src=\"https://colab.research.google.com/assets/colab-badge.svg\" alt=\"Open In Colab\"/></a>"
      ]
    },
    {
      "cell_type": "code",
      "execution_count": null,
      "metadata": {
        "id": "Ytz0AkG1OTEY"
      },
      "outputs": [],
      "source": [
        "\n",
        "PROJECT_ID = 'ai-plataform'\n",
        "BUCKET_NAME = \"olist-analysis-sentiment\""
      ]
    },
    {
      "cell_type": "code",
      "source": [
        "def "
      ],
      "metadata": {
        "id": "ANOaNGT3O5n8"
      },
      "execution_count": null,
      "outputs": []
    }
  ]
}